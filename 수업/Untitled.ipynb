{
 "cells": [
  {
   "cell_type": "code",
   "execution_count": 2,
   "id": "260565bb",
   "metadata": {},
   "outputs": [
    {
     "name": "stdout",
     "output_type": "stream",
     "text": [
      "Collecting pandas\n",
      "  Downloading pandas-2.0.1-cp38-cp38-win_amd64.whl (10.8 MB)\n",
      "     ---------------------------------------- 0.0/10.8 MB ? eta -:--:--\n",
      "     - -------------------------------------- 0.5/10.8 MB 10.5 MB/s eta 0:00:01\n",
      "     ---- ----------------------------------- 1.2/10.8 MB 10.4 MB/s eta 0:00:01\n",
      "     ------ --------------------------------- 1.6/10.8 MB 10.2 MB/s eta 0:00:01\n",
      "     -------- ------------------------------- 2.2/10.8 MB 10.5 MB/s eta 0:00:01\n",
      "     --------- ------------------------------ 2.6/10.8 MB 10.5 MB/s eta 0:00:01\n",
      "     ------------ --------------------------- 3.2/10.8 MB 10.9 MB/s eta 0:00:01\n",
      "     -------------- ------------------------- 3.9/10.8 MB 11.2 MB/s eta 0:00:01\n",
      "     ---------------- ----------------------- 4.4/10.8 MB 11.3 MB/s eta 0:00:01\n",
      "     ------------------ --------------------- 5.1/10.8 MB 11.6 MB/s eta 0:00:01\n",
      "     --------------------- ------------------ 5.7/10.8 MB 11.7 MB/s eta 0:00:01\n",
      "     ----------------------- ---------------- 6.3/10.8 MB 11.7 MB/s eta 0:00:01\n",
      "     ------------------------ --------------- 6.7/10.8 MB 11.5 MB/s eta 0:00:01\n",
      "     -------------------------- ------------- 7.1/10.8 MB 11.3 MB/s eta 0:00:01\n",
      "     ---------------------------- ----------- 7.7/10.8 MB 11.4 MB/s eta 0:00:01\n",
      "     ------------------------------ --------- 8.2/10.8 MB 11.4 MB/s eta 0:00:01\n",
      "     -------------------------------- ------- 8.9/10.8 MB 11.8 MB/s eta 0:00:01\n",
      "     ----------------------------------- ---- 9.4/10.8 MB 11.6 MB/s eta 0:00:01\n",
      "     ------------------------------------ -- 10.0/10.8 MB 11.8 MB/s eta 0:00:01\n",
      "     --------------------------------------  10.6/10.8 MB 11.7 MB/s eta 0:00:01\n",
      "     --------------------------------------  10.8/10.8 MB 11.9 MB/s eta 0:00:01\n",
      "     --------------------------------------- 10.8/10.8 MB 11.5 MB/s eta 0:00:00\n",
      "Collecting tzdata>=2022.1\n",
      "  Using cached tzdata-2023.3-py2.py3-none-any.whl (341 kB)\n",
      "Collecting numpy>=1.20.3\n",
      "  Downloading numpy-1.24.3-cp38-cp38-win_amd64.whl (14.9 MB)\n",
      "     ---------------------------------------- 0.0/14.9 MB ? eta -:--:--\n",
      "     -- ------------------------------------- 0.8/14.9 MB 15.9 MB/s eta 0:00:01\n",
      "     ---- ----------------------------------- 1.6/14.9 MB 15.0 MB/s eta 0:00:01\n",
      "     ------ --------------------------------- 2.4/14.9 MB 14.2 MB/s eta 0:00:01\n",
      "     -------- ------------------------------- 3.1/14.9 MB 14.2 MB/s eta 0:00:01\n",
      "     --------- ------------------------------ 3.7/14.9 MB 13.8 MB/s eta 0:00:01\n",
      "     ----------- ---------------------------- 4.2/14.9 MB 13.6 MB/s eta 0:00:01\n",
      "     ------------ --------------------------- 4.8/14.9 MB 13.4 MB/s eta 0:00:01\n",
      "     -------------- ------------------------- 5.5/14.9 MB 13.5 MB/s eta 0:00:01\n",
      "     ---------------- ----------------------- 6.1/14.9 MB 13.4 MB/s eta 0:00:01\n",
      "     ------------------ --------------------- 6.7/14.9 MB 13.5 MB/s eta 0:00:01\n",
      "     ------------------- -------------------- 7.3/14.9 MB 13.3 MB/s eta 0:00:01\n",
      "     --------------------- ------------------ 7.9/14.9 MB 13.3 MB/s eta 0:00:01\n",
      "     ---------------------- ----------------- 8.4/14.9 MB 13.2 MB/s eta 0:00:01\n",
      "     ------------------------ --------------- 9.0/14.9 MB 13.1 MB/s eta 0:00:01\n",
      "     ------------------------- -------------- 9.6/14.9 MB 13.1 MB/s eta 0:00:01\n",
      "     -------------------------- ------------ 10.1/14.9 MB 13.0 MB/s eta 0:00:01\n",
      "     ---------------------------- ---------- 10.8/14.9 MB 12.8 MB/s eta 0:00:01\n",
      "     ----------------------------- --------- 11.4/14.9 MB 12.8 MB/s eta 0:00:01\n",
      "     ------------------------------- ------- 11.9/14.9 MB 12.8 MB/s eta 0:00:01\n",
      "     -------------------------------- ------ 12.4/14.9 MB 12.6 MB/s eta 0:00:01\n",
      "     ---------------------------------- ---- 13.0/14.9 MB 12.6 MB/s eta 0:00:01\n",
      "     ----------------------------------- --- 13.6/14.9 MB 12.6 MB/s eta 0:00:01\n",
      "     ------------------------------------- - 14.2/14.9 MB 12.6 MB/s eta 0:00:01\n",
      "     --------------------------------------  14.8/14.9 MB 12.6 MB/s eta 0:00:01\n",
      "     --------------------------------------- 14.9/14.9 MB 12.1 MB/s eta 0:00:00\n",
      "Collecting pytz>=2020.1\n",
      "  Downloading pytz-2023.3-py2.py3-none-any.whl (502 kB)\n",
      "     ---------------------------------------- 0.0/502.3 kB ? eta -:--:--\n",
      "     ------------------------------------- 502.3/502.3 kB 10.5 MB/s eta 0:00:00\n",
      "Requirement already satisfied: python-dateutil>=2.8.2 in c:\\users\\acens\\miniconda3\\envs\\ai\\lib\\site-packages (from pandas) (2.8.2)\n",
      "Requirement already satisfied: six>=1.5 in c:\\users\\acens\\miniconda3\\envs\\ai\\lib\\site-packages (from python-dateutil>=2.8.2->pandas) (1.16.0)\n",
      "Installing collected packages: pytz, tzdata, numpy, pandas\n",
      "Successfully installed numpy-1.24.3 pandas-2.0.1 pytz-2023.3 tzdata-2023.3\n"
     ]
    }
   ],
   "source": [
    "!pip install pandas"
   ]
  },
  {
   "cell_type": "code",
   "execution_count": 4,
   "id": "6914347e",
   "metadata": {},
   "outputs": [
    {
     "name": "stdout",
     "output_type": "stream",
     "text": [
      "Collecting matplotlib\n",
      "  Downloading matplotlib-3.7.1-cp38-cp38-win_amd64.whl (7.6 MB)\n",
      "     ---------------------------------------- 0.0/7.6 MB ? eta -:--:--\n",
      "     -- ------------------------------------- 0.5/7.6 MB 11.1 MB/s eta 0:00:01\n",
      "     ----- ---------------------------------- 1.0/7.6 MB 10.7 MB/s eta 0:00:01\n",
      "     ------- -------------------------------- 1.5/7.6 MB 10.5 MB/s eta 0:00:01\n",
      "     ---------- ----------------------------- 2.0/7.6 MB 10.6 MB/s eta 0:00:01\n",
      "     ------------- -------------------------- 2.5/7.6 MB 10.6 MB/s eta 0:00:01\n",
      "     ---------------- ----------------------- 3.1/7.6 MB 10.9 MB/s eta 0:00:01\n",
      "     ---------------- ----------------------- 3.2/7.6 MB 11.4 MB/s eta 0:00:01\n",
      "     ------------------- -------------------- 3.7/7.6 MB 9.8 MB/s eta 0:00:01\n",
      "     ---------------------- ----------------- 4.3/7.6 MB 10.2 MB/s eta 0:00:01\n",
      "     ------------------------- -------------- 4.9/7.6 MB 10.4 MB/s eta 0:00:01\n",
      "     ---------------------------- ----------- 5.5/7.6 MB 10.7 MB/s eta 0:00:01\n",
      "     -------------------------------- ------- 6.1/7.6 MB 10.9 MB/s eta 0:00:01\n",
      "     ---------------------------------- ----- 6.6/7.6 MB 10.8 MB/s eta 0:00:01\n",
      "     ------------------------------------- -- 7.2/7.6 MB 11.2 MB/s eta 0:00:01\n",
      "     ---------------------------------------  7.6/7.6 MB 11.1 MB/s eta 0:00:01\n",
      "     ---------------------------------------- 7.6/7.6 MB 10.4 MB/s eta 0:00:00\n",
      "Collecting fonttools>=4.22.0\n",
      "  Downloading fonttools-4.39.4-py3-none-any.whl (1.0 MB)\n",
      "     ---------------------------------------- 0.0/1.0 MB ? eta -:--:--\n",
      "     ------------------------- -------------- 0.6/1.0 MB 13.8 MB/s eta 0:00:01\n",
      "     ---------------------------------------- 1.0/1.0 MB 12.8 MB/s eta 0:00:00\n",
      "Requirement already satisfied: packaging>=20.0 in c:\\users\\acens\\miniconda3\\envs\\ai\\lib\\site-packages (from matplotlib) (23.1)\n",
      "Collecting cycler>=0.10\n",
      "  Downloading cycler-0.11.0-py3-none-any.whl (6.4 kB)\n",
      "Collecting contourpy>=1.0.1\n",
      "  Downloading contourpy-1.0.7-cp38-cp38-win_amd64.whl (162 kB)\n",
      "     ---------------------------------------- 0.0/163.0 kB ? eta -:--:--\n",
      "     ------------------------------------- 163.0/163.0 kB 10.2 MB/s eta 0:00:00\n",
      "Requirement already satisfied: importlib-resources>=3.2.0 in c:\\users\\acens\\miniconda3\\envs\\ai\\lib\\site-packages (from matplotlib) (5.12.0)\n",
      "Collecting pillow>=6.2.0\n",
      "  Downloading Pillow-9.5.0-cp38-cp38-win_amd64.whl (2.5 MB)\n",
      "     ---------------------------------------- 0.0/2.5 MB ? eta -:--:--\n",
      "     ------------ --------------------------- 0.8/2.5 MB 17.0 MB/s eta 0:00:01\n",
      "     ------------------------- -------------- 1.6/2.5 MB 14.7 MB/s eta 0:00:01\n",
      "     --------------------------------- ------ 2.1/2.5 MB 13.7 MB/s eta 0:00:01\n",
      "     ---------------------------------------  2.5/2.5 MB 12.4 MB/s eta 0:00:01\n",
      "     ---------------------------------------- 2.5/2.5 MB 11.5 MB/s eta 0:00:00\n",
      "Requirement already satisfied: numpy>=1.20 in c:\\users\\acens\\miniconda3\\envs\\ai\\lib\\site-packages (from matplotlib) (1.24.3)\n",
      "Requirement already satisfied: python-dateutil>=2.7 in c:\\users\\acens\\miniconda3\\envs\\ai\\lib\\site-packages (from matplotlib) (2.8.2)\n",
      "Collecting pyparsing>=2.3.1\n",
      "  Downloading pyparsing-3.0.9-py3-none-any.whl (98 kB)\n",
      "     ---------------------------------------- 0.0/98.3 kB ? eta -:--:--\n",
      "     ---------------------------------------- 98.3/98.3 kB 5.9 MB/s eta 0:00:00\n",
      "Collecting kiwisolver>=1.0.1\n",
      "  Downloading kiwisolver-1.4.4-cp38-cp38-win_amd64.whl (55 kB)\n",
      "     ---------------------------------------- 0.0/55.4 kB ? eta -:--:--\n",
      "     ---------------------------------------- 55.4/55.4 kB ? eta 0:00:00\n",
      "Requirement already satisfied: zipp>=3.1.0 in c:\\users\\acens\\miniconda3\\envs\\ai\\lib\\site-packages (from importlib-resources>=3.2.0->matplotlib) (3.15.0)\n",
      "Requirement already satisfied: six>=1.5 in c:\\users\\acens\\miniconda3\\envs\\ai\\lib\\site-packages (from python-dateutil>=2.7->matplotlib) (1.16.0)\n",
      "Installing collected packages: pyparsing, pillow, kiwisolver, fonttools, cycler, contourpy, matplotlib\n",
      "Successfully installed contourpy-1.0.7 cycler-0.11.0 fonttools-4.39.4 kiwisolver-1.4.4 matplotlib-3.7.1 pillow-9.5.0 pyparsing-3.0.9\n"
     ]
    }
   ],
   "source": [
    "!pip install matplotlib"
   ]
  },
  {
   "cell_type": "code",
   "execution_count": 5,
   "id": "894741e7",
   "metadata": {},
   "outputs": [],
   "source": [
    "import pandas as pd\n",
    "import matplotlib.pyplot as plt"
   ]
  },
  {
   "cell_type": "code",
   "execution_count": null,
   "id": "ae47fa3a",
   "metadata": {},
   "outputs": [],
   "source": []
  }
 ],
 "metadata": {
  "kernelspec": {
   "display_name": "AI",
   "language": "python",
   "name": "ai"
  },
  "language_info": {
   "codemirror_mode": {
    "name": "ipython",
    "version": 3
   },
   "file_extension": ".py",
   "mimetype": "text/x-python",
   "name": "python",
   "nbconvert_exporter": "python",
   "pygments_lexer": "ipython3",
   "version": "3.8.16"
  }
 },
 "nbformat": 4,
 "nbformat_minor": 5
}

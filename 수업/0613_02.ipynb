{
 "cells": [
  {
   "cell_type": "code",
   "execution_count": 7,
   "metadata": {},
   "outputs": [],
   "source": [
    "from selenium import webdriver\n",
    "from selenium.webdriver.common.keys import Keys\n",
    "from selenium.webdriver.common.by import By\n",
    "import os\n",
    "\n",
    "\n",
    "import time"
   ]
  },
  {
   "cell_type": "code",
   "execution_count": 8,
   "metadata": {},
   "outputs": [
    {
     "ename": "SyntaxError",
     "evalue": "unexpected EOF while parsing (605032598.py, line 37)",
     "output_type": "error",
     "traceback": [
      "\u001b[1;36m  Cell \u001b[1;32mIn[8], line 37\u001b[1;36m\u001b[0m\n\u001b[1;33m    \u001b[0m\n\u001b[1;37m    ^\u001b[0m\n\u001b[1;31mSyntaxError\u001b[0m\u001b[1;31m:\u001b[0m unexpected EOF while parsing\n"
     ]
    }
   ],
   "source": [
    "driver = webdriver.Chrome()\n",
    "elem = driver.find_element(By.TAG_NAME, 'body')\n",
    "for i in range(60) :\n",
    "    elem.send_keys(Keys.PAGE_DOWN)\n",
    "    time.sleep(0.1)\n",
    "    \n",
    "try :\n",
    "    driver.find_element_by_class_name('mye4qd').send_keys(Keys.ENTER)\n",
    "    for i in range(60):\n",
    "        elem.send_keys(Keys.PAGE_DOWN)\n",
    "        time.sleep(0.1)\n",
    "except :\n",
    "    pass\n",
    "\n",
    "\n",
    "links = []\n",
    "imgs = driver.find_elements_by_css_selector(\"img.rg_i\")\n",
    "\n",
    "for img in imgs:\n",
    "    if img.get_attribute('data-src') != None:\n",
    "        links.append(img.get_attribute('data-src'))\n",
    "    elif img.get_attribute('data-url') != None:\n",
    "        links.append(img.get_attribute('data-url'))\n",
    "    elif img.get_attribute('src') != None:\n",
    "        links.append(img.get_attribute('src'))\n",
    "        \n",
    "\n",
    "print(\"The # of img found : \", len(links))\n",
    "cnt = 0\n",
    "for i in links:\n",
    "    start = time.time()\n",
    "    url = i\n",
    "    os.makedirs(\"./downloaded_img_data\", exist_ok=True)\n",
    "    while True:\n",
    "        try :\n",
    "            urllib.request.urlretrieve(url, f\"./downloaded_img_data/{str(cnt)}_apple.png\")\n",
    "            print(f\"{str(cnt+1)}/{str(len(links))}/{query}/다운로드 시간 :\")\n",
    "    "
   ]
  },
  {
   "cell_type": "code",
   "execution_count": null,
   "metadata": {},
   "outputs": [],
   "source": []
  }
 ],
 "metadata": {
  "kernelspec": {
   "display_name": "AI",
   "language": "python",
   "name": "python3"
  },
  "language_info": {
   "codemirror_mode": {
    "name": "ipython",
    "version": 3
   },
   "file_extension": ".py",
   "mimetype": "text/x-python",
   "name": "python",
   "nbconvert_exporter": "python",
   "pygments_lexer": "ipython3",
   "version": "3.8.16"
  },
  "orig_nbformat": 4
 },
 "nbformat": 4,
 "nbformat_minor": 2
}

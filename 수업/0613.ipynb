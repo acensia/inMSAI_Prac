{
 "cells": [
  {
   "cell_type": "code",
   "execution_count": 2,
   "metadata": {},
   "outputs": [],
   "source": [
    "import requests as rq\n",
    "from bs4 import BeautifulSoup\n",
    "import os"
   ]
  },
  {
   "cell_type": "code",
   "execution_count": 4,
   "metadata": {},
   "outputs": [
    {
     "name": "stdout",
     "output_type": "stream",
     "text": [
      "[<img alt=\"Google\" class=\"kgJEQe\" src=\"/images/branding/searchlogo/1x/googlelogo_desk_heirloom_color_150x55dp.gif\"/>, <img alt=\"\" class=\"yWs4tf\" src=\"https://encrypted-tbn0.gstatic.com/images?q=tbn:ANd9GcTcphgszxR6saYFj-4lYLrYPzWVwOfw6WNOJ7_7wIHO6dTylT-X8Z8IGv-Sog8&amp;s\"/>, <img alt=\"\" class=\"yWs4tf\" src=\"https://encrypted-tbn0.gstatic.com/images?q=tbn:ANd9GcToSjh7ZNYssLfOwocI9z26wYRKvLiaJAcIa-gmST4VkNK7qbl9pQoUB1IF4w&amp;s\"/>, <img alt=\"\" class=\"yWs4tf\" src=\"https://encrypted-tbn0.gstatic.com/images?q=tbn:ANd9GcTCzZXZKPyapDs3YPcBDX-nA3jI5i0wCiYtXfxD5290dAgofc2Hs5W6zgrtoMk&amp;s\"/>, <img alt=\"\" class=\"yWs4tf\" src=\"https://encrypted-tbn0.gstatic.com/images?q=tbn:ANd9GcSPYh4Z1PVVmbTWo82DFnEhsTeEa6f0i9MmMdyeYyZs8zlmbnsKNc8eoTCZWw&amp;s\"/>, <img alt=\"\" class=\"yWs4tf\" src=\"https://encrypted-tbn0.gstatic.com/images?q=tbn:ANd9GcQUbHRS4MgjBVUuScBgBpe9-e8l-aBQgr7LJat5NAHXSH2Vg8WLsMgk3RuYI3s&amp;s\"/>, <img alt=\"\" class=\"yWs4tf\" src=\"https://encrypted-tbn0.gstatic.com/images?q=tbn:ANd9GcREia-jaIhrpubAyI7o3ijiS8AIHXRGCe3k0QkC-bw0n61gzO99RnwFBzIqQA&amp;s\"/>, <img alt=\"\" class=\"yWs4tf\" src=\"https://encrypted-tbn0.gstatic.com/images?q=tbn:ANd9GcRTWZYi4dZ5WhUpn6_iCS5GoG8phOtQvxQQ1IrovXFRkf0uUD1rN2pc8U34iNM&amp;s\"/>, <img alt=\"\" class=\"yWs4tf\" src=\"https://encrypted-tbn0.gstatic.com/images?q=tbn:ANd9GcRQ8bM02ULMxe5dtQTJfJnPWjo-qn_XIJebTpODYygNAUhSrJPezEwIC42dXg&amp;s\"/>, <img alt=\"\" class=\"yWs4tf\" src=\"https://encrypted-tbn0.gstatic.com/images?q=tbn:ANd9GcTZou52MJ5Hr-WcgyJgpBwRXzc1ittvwnz9IQ3SHbIo9ZN37lX0eGAJ8pLZ21U&amp;s\"/>, <img alt=\"\" class=\"yWs4tf\" src=\"https://encrypted-tbn0.gstatic.com/images?q=tbn:ANd9GcQj7HZmYG4j4dH1HCb2HCx2r2OXgOkdWalkN2lmJNCOnZAPqQvTRWshMfobcWk&amp;s\"/>, <img alt=\"\" class=\"yWs4tf\" src=\"https://encrypted-tbn0.gstatic.com/images?q=tbn:ANd9GcQmg15Po_bVhzQCtoEdCbk75hkG0qtI0hrrZwbbHFiTogvAicDf0vQS9N2tbfA&amp;s\"/>, <img alt=\"\" class=\"yWs4tf\" src=\"https://encrypted-tbn0.gstatic.com/images?q=tbn:ANd9GcTlJVqdnPvLZp2JC4lfQtxP-X-Y84pif0hAzrGa5ybAmtM6O4NwTWDvPDol5VA&amp;s\"/>, <img alt=\"\" class=\"yWs4tf\" src=\"https://encrypted-tbn0.gstatic.com/images?q=tbn:ANd9GcQfiPrjNHQd5WaQp6NOwWSz097GYhx_cNPgCu_ymjbQxXn8QYevsYqqjdCip0w&amp;s\"/>, <img alt=\"\" class=\"yWs4tf\" src=\"https://encrypted-tbn0.gstatic.com/images?q=tbn:ANd9GcSkP32jUV4s1JbjRe9F4jx1pmB8Wq0WHRttqKR-W3u0APqEUEdxCoCjANWrml0&amp;s\"/>, <img alt=\"\" class=\"yWs4tf\" src=\"https://encrypted-tbn0.gstatic.com/images?q=tbn:ANd9GcSSx9hLfvcM-pni4PBrKfI5fJlE2RS3YG0Y8WsOItx0wdrNdmIrku4-CbWEP1I&amp;s\"/>, <img alt=\"\" class=\"yWs4tf\" src=\"https://encrypted-tbn0.gstatic.com/images?q=tbn:ANd9GcQSHJpgHsT38bWVcuYWh9yqmiBB3vAEtaTPEYMwegp9ddYp8cen-vLU1o1POQc&amp;s\"/>, <img alt=\"\" class=\"yWs4tf\" src=\"https://encrypted-tbn0.gstatic.com/images?q=tbn:ANd9GcT86siCoxtpk91h3obSSCppQWoFeIrGYAmmTr-OCP9acGcZ2acqCVADJmYAGXE&amp;s\"/>, <img alt=\"\" class=\"yWs4tf\" src=\"https://encrypted-tbn0.gstatic.com/images?q=tbn:ANd9GcTF6t-rUXSb9DBh1_lLOhyRo2lQVU3pmXJZy3z67hg8zRNEkExWtz0xGjy2RQ&amp;s\"/>, <img alt=\"\" class=\"yWs4tf\" src=\"https://encrypted-tbn0.gstatic.com/images?q=tbn:ANd9GcRgOA9ZVKC56xHp5xPucxUKJIf0aGmTIp08J1aaIC1HoXoTAqra_WtFFsW9mg&amp;s\"/>, <img alt=\"\" class=\"yWs4tf\" src=\"https://encrypted-tbn0.gstatic.com/images?q=tbn:ANd9GcTTzWrvKu0-Hr1_vIaoKg7qdv-xdZvyhGG8zNozG0yombH64qZkgQnVP9utcw&amp;s\"/>]\n"
     ]
    }
   ],
   "source": [
    "query = '사과'\n",
    "\n",
    "url = f'https://www.google.com/search?q={query}&source-lnms&tbm=isch'\n",
    "\n",
    "header = {\n",
    "    \"User-Agent\": \"Mozilla/5.0 (Windows NT 10.0; Win64; x64) AppleWebKit/537.36 (KHTML, like Gecko) Chrome/58.0.3029.110 Safari/537.3\"\n",
    "}\n",
    "\n",
    "res = rq.get(url, headers=header)\n",
    "\n",
    "soup = BeautifulSoup(res.text, \"html.parser\")\n",
    "img_tags = soup.find_all(\"img\")\n",
    "print(img_tags)"
   ]
  },
  {
   "cell_type": "code",
   "execution_count": null,
   "metadata": {},
   "outputs": [],
   "source": []
  }
 ],
 "metadata": {
  "kernelspec": {
   "display_name": "AI",
   "language": "python",
   "name": "python3"
  },
  "language_info": {
   "codemirror_mode": {
    "name": "ipython",
    "version": 3
   },
   "file_extension": ".py",
   "mimetype": "text/x-python",
   "name": "python",
   "nbconvert_exporter": "python",
   "pygments_lexer": "ipython3",
   "version": "3.8.16"
  },
  "orig_nbformat": 4
 },
 "nbformat": 4,
 "nbformat_minor": 2
}

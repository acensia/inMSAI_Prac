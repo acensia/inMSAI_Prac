{
 "cells": [
  {
   "attachments": {},
   "cell_type": "markdown",
   "metadata": {},
   "source": [
    "Data augmentation"
   ]
  },
  {
   "cell_type": "code",
   "execution_count": 5,
   "metadata": {},
   "outputs": [],
   "source": [
    "import cv2\n",
    "import os\n",
    "import glob\n",
    "\n",
    "from tqdm import tqdm\n",
    "slash = \"\\\\\""
   ]
  },
  {
   "attachments": {},
   "cell_type": "markdown",
   "metadata": {},
   "source": [
    "Augmentation Func"
   ]
  },
  {
   "cell_type": "code",
   "execution_count": null,
   "metadata": {},
   "outputs": [],
   "source": [
    "def img_aug_angle(img,file_name, folder_name):\n",
    "    img = cv2.cvtColor(img, cv2.COLOR_BGR2RGB)\n",
    "    \n",
    "    angle = 20\n",
    "    \n",
    "    h,w = img.shape[:2]\n",
    "    c = (w//2, h//2)\n",
    "    M = cv2.getRotationMatrix2D(c, angle, 1.0)\n",
    "    \n",
    "    rotated = cv2.warpAffine(img, M, (w, h))\n",
    "    \n",
    "    \n",
    "    file_name = f\"rotated_{file_name}\"\n",
    "    file_path = f\"./dataset_aug_img{slash}{folder_name}{slash}{file_name}\"\n",
    "    \n",
    "    cv2.imwrite(file_path, img)\n",
    "    \n",
    "\n",
    "def img_aug_flip(img,file_name, folder_name):\n",
    "    \n",
    "    flipped_rl = cv2.flip(img, 1)\n",
    "    flipped_ud = cv2.flip(img, 0)\n",
    "    \n",
    "    file_name_rl = f\"flipped_right_and_left_{file_name}\"\n",
    "    file_name_ud = f\"flipped_up_and_down_{file_name}\"\n",
    "    \n",
    "    file_name = f\"flipped_{file_name}\"\n",
    "    file_path = f\"./dataset_aug_img{slash}{folder_name}{slash}{file_name}\"\n",
    "    \n",
    "    cv2.imwrite(file_path, img)\n",
    "\n",
    "\n",
    "def img_aug(img):\n",
    "    img = cv2.cvtColor(img, cv2.COLOR_BGR2RGB)\n",
    "    \n",
    "    angle = 20\n",
    "    \n",
    "    h,w = img.shape[:2]\n",
    "    c = (w//2, h//2)\n",
    "    M = cv2.getRotationMatrix2D(c, angle, 1.0)\n",
    "    \n",
    "    rotated = cv2.warpAffine(img, M, (w, h))\n",
    "    \n",
    "    flipped_rl = cv2.flip(img, 1)\n",
    "    flipped_ud = cv2.flip(img, 0)\n",
    "    \n",
    "    img_hsv = cv2.cvtColor(img, cv2.COLOR_RGB2HSV)\n",
    "    \n",
    "    saturation_fac = 0.8\n",
    "    img_hsv[:, :, 1] = img_hsv[:, :, 1] * saturation_fac\n",
    "    \n",
    "    img_saturated = cv2.cvtColor(img_hsv, cv2.COLOR_HSV2RGB)\n",
    "    \n",
    "    return [img, rotated, flipped_rl, flipped_ud, img_saturated]"
   ]
  },
  {
   "cell_type": "code",
   "execution_count": 4,
   "metadata": {},
   "outputs": [],
   "source": [
    "img_dir = \"./datatsets\"\n",
    "\n",
    "img_path_list = glob.glob(os.path.join(img_dir, \"*\", \"*.jpg\"))\n",
    "\n",
    "os.makedirs(\"./dataset_aug_img\", exist_ok=True)\n",
    "\n",
    "for path in img_path_list:\n",
    "    img_name = path.split(slash)[3]\n",
    "    fol_name = path.split(slash)[2]\n",
    "    \n",
    "    img = cv2.imread(path)\n",
    "    \n",
    "    cnt = 0\n",
    "    for idx, aug_img in enumerate(img_aug(img)):\n",
    "        file_name = f\"{str(idx).zfill(3)}_{fol_name}.png\"\n",
    "        file_path = f\"./dataset_aug_img{slash}{file_name}\"\n",
    "        \n",
    "        img = cv2.cvtColor(aug_img, cv2.COLOR_BGR2RGB)\n",
    "        cv2.imwrite(file_path, img)\n",
    "        "
   ]
  },
  {
   "cell_type": "code",
   "execution_count": null,
   "metadata": {},
   "outputs": [],
   "source": []
  }
 ],
 "metadata": {
  "kernelspec": {
   "display_name": "Python 3",
   "language": "python",
   "name": "python3"
  },
  "language_info": {
   "codemirror_mode": {
    "name": "ipython",
    "version": 3
   },
   "file_extension": ".py",
   "mimetype": "text/x-python",
   "name": "python",
   "nbconvert_exporter": "python",
   "pygments_lexer": "ipython3",
   "version": "3.8.16"
  },
  "orig_nbformat": 4
 },
 "nbformat": 4,
 "nbformat_minor": 2
}

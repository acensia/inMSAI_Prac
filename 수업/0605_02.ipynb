{
 "cells": [
  {
   "cell_type": "code",
   "execution_count": 1,
   "metadata": {},
   "outputs": [],
   "source": [
    "import numpy as np\n",
    "from sklearn.preprocessing import LabelBinarizer, MultiLabelBinarizer"
   ]
  },
  {
   "cell_type": "code",
   "execution_count": 3,
   "metadata": {},
   "outputs": [
    {
     "name": "stdout",
     "output_type": "stream",
     "text": [
      "['가나다라' '아바하자' '카나다사']\n"
     ]
    }
   ],
   "source": [
    "feature = np.array([['가나다라'],\n",
    "                    ['가나다라'],\n",
    "                    ['아바하자'],\n",
    "                    ['카나다사']])\n",
    "\n",
    "one_hot = LabelBinarizer()\n",
    "one_hot.fit_transform(feature)\n",
    "print(one_hot.classes_)"
   ]
  },
  {
   "cell_type": "code",
   "execution_count": 5,
   "metadata": {},
   "outputs": [
    {
     "name": "stdout",
     "output_type": "stream",
     "text": [
      "['가나다라마' '라마타카나' '사바하마사' '아바다카다' '아자바하나']\n"
     ]
    }
   ],
   "source": [
    "multiclass_feat = [('가나다라마', '아자바하나'),\n",
    "                   ('아바다카다', '사바하마사'),\n",
    "                   ('가나다라마', '아자바하나'),\n",
    "                   ('가나다라마', '라마타카나'),\n",
    "                   ('가나다라마', '아자바하나')]\n",
    "\n",
    "one_hot_mult = MultiLabelBinarizer()\n",
    "one_hot_mult.fit_transform(multiclass_feat)\n",
    "print(one_hot_mult.classes_)"
   ]
  },
  {
   "attachments": {},
   "cell_type": "markdown",
   "metadata": {},
   "source": [
    "String Target data one-hot"
   ]
  },
  {
   "cell_type": "code",
   "execution_count": 7,
   "metadata": {},
   "outputs": [
    {
     "name": "stdout",
     "output_type": "stream",
     "text": [
      "[array(['만남', '안녕', '저녁'], dtype=object), array([1, 2, 3], dtype=object)]\n"
     ]
    },
    {
     "name": "stderr",
     "output_type": "stream",
     "text": [
      "c:\\Users\\acens\\miniconda3\\envs\\AI\\lib\\site-packages\\sklearn\\preprocessing\\_encoders.py:868: FutureWarning: `sparse` was renamed to `sparse_output` in version 1.2 and will be removed in 1.4. `sparse_output` is ignored unless you leave `sparse` to its default value.\n",
      "  warnings.warn(\n"
     ]
    }
   ],
   "source": [
    "from sklearn.preprocessing import OneHotEncoder\n",
    "\n",
    "str_feat =  ([['안녕', 1],\n",
    "              ['저녁', 2],\n",
    "              ['안녕', 1],\n",
    "              ['만남', 3]\n",
    "              ])\n",
    "\n",
    "\n",
    "one_hot_encoder= OneHotEncoder(sparse=False)\n",
    "\n",
    "one_hot_encoder.fit_transform(str_feat)\n",
    "print(one_hot_encoder.categories_)"
   ]
  },
  {
   "attachments": {},
   "cell_type": "markdown",
   "metadata": {},
   "source": [
    "Ordinal categorical data"
   ]
  },
  {
   "cell_type": "code",
   "execution_count": 8,
   "metadata": {},
   "outputs": [],
   "source": [
    "import pandas as pd\n",
    "\n",
    "df = pd.DataFrame({\n",
    "    'Score' : ['Low', 'Low', 'High', 'High', 'Low', 'Medium']\n",
    "})\n",
    "\n",
    "scale_mapper = {\n",
    "    \"Low\" : 1,\n",
    "    \"Medium\" : 2,\n",
    "    \"High\" : 3\n",
    "}"
   ]
  },
  {
   "cell_type": "code",
   "execution_count": 9,
   "metadata": {},
   "outputs": [
    {
     "name": "stdout",
     "output_type": "stream",
     "text": [
      "0    1\n",
      "1    1\n",
      "2    3\n",
      "3    3\n",
      "4    1\n",
      "5    2\n",
      "Name: Score, dtype: int64\n"
     ]
    }
   ],
   "source": [
    "data = df[\"Score\"].replace(scale_mapper)\n",
    "print(data)"
   ]
  },
  {
   "cell_type": "code",
   "execution_count": 10,
   "metadata": {},
   "outputs": [],
   "source": [
    "from sklearn.feature_extraction import DictVectorizer"
   ]
  },
  {
   "cell_type": "code",
   "execution_count": 19,
   "metadata": {},
   "outputs": [
    {
     "name": "stdout",
     "output_type": "stream",
     "text": [
      "[[4. 2. 0.]\n",
      " [3. 4. 0.]\n",
      " [0. 1. 2.]\n",
      " [0. 1. 2.]]\n",
      "['Blue' 'Red' 'Yellow']\n",
      "   Blue  Red  Yellow\n",
      "0   4.0  2.0     0.0\n",
      "1   3.0  4.0     0.0\n",
      "2   0.0  1.0     2.0\n",
      "3   0.0  1.0     2.0\n"
     ]
    }
   ],
   "source": [
    "data_dict = [{\"Red\":2, \"Blue\":4},\n",
    "             {\"Red\":4, \"Blue\":3},\n",
    "             {\"Red\":1, \"Yellow\":2},\n",
    "             {\"Red\":1, \"Yellow\":2}\n",
    "             ]\n",
    "\n",
    "dictVec = DictVectorizer(sparse=False)\n",
    "feat_dict = dictVec.fit_transform(data_dict)\n",
    "print(feat_dict)\n",
    "\n",
    "feat_dict_name = dictVec.get_feature_names_out()\n",
    "print(feat_dict_name)\n",
    "\n",
    "dict_data = pd.DataFrame(feat_dict, columns=feat_dict_name)\n",
    "print(dict_data)"
   ]
  },
  {
   "attachments": {},
   "cell_type": "markdown",
   "metadata": {},
   "source": [
    "Categoricla Data - 누락된 class 값"
   ]
  },
  {
   "cell_type": "code",
   "execution_count": 26,
   "metadata": {},
   "outputs": [],
   "source": [
    "from sklearn.neighbors import KNeighborsClassifier\n",
    "x = np.array([[0,2.10, 1.48 ],\n",
    "              [1,1.18, 1.33],\n",
    "              [0,1.22,1.27],\n",
    "              [1,-0.2,-1.15]])\n",
    "\n",
    "x_with_nan = np.array([[np.nan,0.87,1.33], [np.nan,-0.67,-0.22]])\n",
    "clf = KNeighborsClassifier(3, weights='distance')\n"
   ]
  },
  {
   "cell_type": "code",
   "execution_count": 27,
   "metadata": {},
   "outputs": [],
   "source": [
    "train_model = clf.fit(x[:,1:], x[:,0])\n",
    "imputed_values = train_model.predict(x_with_nan[:, 1:])\n",
    "\n",
    "x_with_imputed = np.hstack((imputed_values.reshape(-1,1),x_with_nan[:,1:]))\n",
    "data =np.vstack((x_with_imputed,x))"
   ]
  },
  {
   "cell_type": "code",
   "execution_count": 29,
   "metadata": {},
   "outputs": [
    {
     "name": "stdout",
     "output_type": "stream",
     "text": [
      "[[ 0.    0.87  1.33]\n",
      " [ 1.   -0.67 -0.22]\n",
      " [ 0.    2.1   1.48]\n",
      " [ 1.    1.18  1.33]\n",
      " [ 0.    1.22  1.27]\n",
      " [ 1.   -0.2  -1.15]]\n"
     ]
    }
   ],
   "source": [
    "print(data)"
   ]
  },
  {
   "attachments": {},
   "cell_type": "markdown",
   "metadata": {},
   "source": []
  },
  {
   "cell_type": "code",
   "execution_count": 33,
   "metadata": {},
   "outputs": [
    {
     "name": "stdout",
     "output_type": "stream",
     "text": [
      "[[  nan  0.87  1.33]\n",
      " [  nan -0.67 -0.22]\n",
      " [ 0.    2.1   1.48]\n",
      " [ 1.    1.18  1.33]\n",
      " [ 0.    1.22  1.27]\n",
      " [ 1.   -0.2  -1.15]]\n",
      "[[ 0.    0.87  1.33]\n",
      " [ 0.   -0.67 -0.22]\n",
      " [ 0.    2.1   1.48]\n",
      " [ 1.    1.18  1.33]\n",
      " [ 0.    1.22  1.27]\n",
      " [ 1.   -0.2  -1.15]]\n"
     ]
    }
   ],
   "source": [
    "from sklearn.impute import SimpleImputer\n",
    "\n",
    "x_complete = np.vstack((x_with_nan,x))\n",
    "print(x_complete)\n",
    "\n",
    "impute = SimpleImputer(strategy='most_frequent')\n",
    "data_impute = impute.fit_transform(x_complete)\n",
    "print(data_impute)"
   ]
  },
  {
   "cell_type": "code",
   "execution_count": null,
   "metadata": {},
   "outputs": [],
   "source": []
  }
 ],
 "metadata": {
  "kernelspec": {
   "display_name": "AI",
   "language": "python",
   "name": "ai"
  },
  "language_info": {
   "codemirror_mode": {
    "name": "ipython",
    "version": 3
   },
   "file_extension": ".py",
   "mimetype": "text/x-python",
   "name": "python",
   "nbconvert_exporter": "python",
   "pygments_lexer": "ipython3",
   "version": "3.8.16"
  },
  "orig_nbformat": 4
 },
 "nbformat": 4,
 "nbformat_minor": 2
}

{
 "cells": [
  {
   "attachments": {},
   "cell_type": "markdown",
   "metadata": {},
   "source": [
    "Distribute datetime data with various features"
   ]
  },
  {
   "cell_type": "code",
   "execution_count": 1,
   "metadata": {},
   "outputs": [
    {
     "name": "stdout",
     "output_type": "stream",
     "text": [
      "        date\n",
      "0 2023-01-01\n",
      "1 2023-01-08\n",
      "2 2023-01-15\n",
      "3 2023-01-22\n",
      "4 2023-01-29\n",
      "5 2023-02-05\n",
      "6 2023-02-12\n",
      "7 2023-02-19\n",
      "8 2023-02-26\n",
      "9 2023-03-05\n"
     ]
    }
   ],
   "source": [
    "import pandas as pd\n",
    "\n",
    "df = pd.DataFrame()\n",
    "\n",
    "df['date'] = pd.date_range('1/1/2023', periods=10, freq='W')\n",
    "print(df)"
   ]
  },
  {
   "attachments": {},
   "cell_type": "markdown",
   "metadata": {},
   "source": [
    "Features for year, month, date, hour, minute"
   ]
  },
  {
   "cell_type": "code",
   "execution_count": 2,
   "metadata": {},
   "outputs": [
    {
     "name": "stdout",
     "output_type": "stream",
     "text": [
      "        date  year  month  day  hour  minute\n",
      "0 2023-01-01  2023      1    1     0       0\n",
      "1 2023-01-08  2023      1    8     0       0\n",
      "2 2023-01-15  2023      1   15     0       0\n",
      "3 2023-01-22  2023      1   22     0       0\n",
      "4 2023-01-29  2023      1   29     0       0\n",
      "5 2023-02-05  2023      2    5     0       0\n",
      "6 2023-02-12  2023      2   12     0       0\n",
      "7 2023-02-19  2023      2   19     0       0\n",
      "8 2023-02-26  2023      2   26     0       0\n",
      "9 2023-03-05  2023      3    5     0       0\n"
     ]
    }
   ],
   "source": [
    "df['year'] = df['date'].dt.year\n",
    "df['month'] = df['date'].dt.month\n",
    "df['day'] = df['date'].dt.day\n",
    "df['hour'] = df['date'].dt.hour\n",
    "df['minute'] = df['date'].dt.minute\n",
    "\n",
    "print(df)"
   ]
  },
  {
   "attachments": {},
   "cell_type": "markdown",
   "metadata": {},
   "source": [
    "///////////////////////////////"
   ]
  },
  {
   "cell_type": "code",
   "execution_count": null,
   "metadata": {},
   "outputs": [],
   "source": []
  }
 ],
 "metadata": {
  "kernelspec": {
   "display_name": "AI",
   "language": "python",
   "name": "ai"
  },
  "language_info": {
   "codemirror_mode": {
    "name": "ipython",
    "version": 3
   },
   "file_extension": ".py",
   "mimetype": "text/x-python",
   "name": "python",
   "nbconvert_exporter": "python",
   "pygments_lexer": "ipython3",
   "version": "3.8.16"
  },
  "orig_nbformat": 4
 },
 "nbformat": 4,
 "nbformat_minor": 2
}

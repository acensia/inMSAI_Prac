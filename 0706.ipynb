{
 "cells": [
  {
   "cell_type": "code",
   "execution_count": 1,
   "metadata": {},
   "outputs": [],
   "source": [
    "import torch\n",
    "import torch.nn as nn\n",
    "import torch.optim as optim\n",
    "import torchvision.datasets as datasets\n",
    "import torchvision.transforms as transforms"
   ]
  },
  {
   "cell_type": "code",
   "execution_count": 7,
   "metadata": {},
   "outputs": [],
   "source": [
    "class DropoutNet(nn.Module):\n",
    "    def __init__(self):\n",
    "        super(DropoutNet, self).__init__()\n",
    "        # data shape : 28*28 = 784\n",
    "        self.fc1 = nn.Linear(784, 500)\n",
    "        self.dropout = nn.Dropout(p=0.5) # p=0.5 50%\n",
    "        self.fc2 = nn.Linear(500, 10)\n",
    "        \n",
    "    def forward(self,x):\n",
    "        x = x.view(x.size(0), -1) # flatten\n",
    "        x = torch.relu(self.fc1(x))\n",
    "        x = self.dropout(x)\n",
    "        x = self.fc2(x)\n",
    "        \n",
    "        return x"
   ]
  },
  {
   "cell_type": "code",
   "execution_count": 13,
   "metadata": {},
   "outputs": [],
   "source": [
    "#model without dropout\n",
    "class NonDropoutNet(nn.Module):\n",
    "    def __init__(self):\n",
    "        super(NonDropoutNet, self).__init__()\n",
    "        self.fc1 = nn.Linear(784, 500)\n",
    "        self.fc2 = nn.Linear(500, 10)\n",
    "        \n",
    "    def forward(self,x):\n",
    "        x = x.view(x.size(0), -1) # flatten\n",
    "        x = torch.relu(self.fc1(x))\n",
    "        x = self.fc2(x)\n",
    "        \n",
    "        return x"
   ]
  },
  {
   "cell_type": "code",
   "execution_count": 9,
   "metadata": {},
   "outputs": [],
   "source": [
    "train_transform = transforms.Compose([\n",
    "    transforms.AutoAugment(),\n",
    "    transforms.ToTensor(),\n",
    "    transforms.Normalize((0.5,),(0.3,))\n",
    "])\n",
    "\n",
    "test_transform = transforms.Compose([\n",
    "    transforms.ToTensor(),\n",
    "    transforms.Normalize((0.5,),(0.3,))\n",
    "])\n",
    "\n",
    "train_data = datasets.MNIST(root=\"./data/mnist\", train=True, download=False,transform=train_transform)\n",
    "test_data = datasets.MNIST(root=\"./data/mnist\", train=False, download=False,transform=train_transform)\n",
    "\n",
    "train_loader = torch.utils.data.DataLoader(train_data,batch_size=64,shuffle=True)\n",
    "test_loader = torch.utils.data.DataLoader(test_data,batch_size=64,shuffle=False)\n"
   ]
  },
  {
   "cell_type": "code",
   "execution_count": 10,
   "metadata": {},
   "outputs": [
    {
     "name": "stdout",
     "output_type": "stream",
     "text": [
      "DropoutNet(\n",
      "  (fc1): Linear(in_features=784, out_features=500, bias=True)\n",
      "  (dropout): Dropout(p=0.5, inplace=False)\n",
      "  (fc2): Linear(in_features=500, out_features=10, bias=True)\n",
      ")\n"
     ]
    }
   ],
   "source": [
    "dropout_model = DropoutNet()\n",
    "print(dropout_model)\n",
    "\n",
    "dropout_criterion = nn.CrossEntropyLoss()\n",
    "dropout_optim = optim.SGD(dropout_model.parameters(), lr=0.001)"
   ]
  },
  {
   "cell_type": "code",
   "execution_count": 11,
   "metadata": {},
   "outputs": [
    {
     "name": "stdout",
     "output_type": "stream",
     "text": [
      "dropout ACC >> 82.69\n"
     ]
    }
   ],
   "source": [
    "for epoch in range(10):\n",
    "    dropout_model.train()\n",
    "    for imgs,labels in train_loader:\n",
    "        dropout_optim.zero_grad()\n",
    "        dropout_output = dropout_model(imgs)\n",
    "        dropout_loss = dropout_criterion(dropout_output, labels)\n",
    "        dropout_loss.backward()\n",
    "        dropout_optim.step()\n",
    "        \n",
    "\n",
    "dropout_model.eval()\n",
    "with torch.no_grad():\n",
    "    dropout_correct = 0\n",
    "    dropout_total = 0\n",
    "    \n",
    "    for imgs, labels in test_loader:\n",
    "        test_output = dropout_model(imgs)\n",
    "        _, dropout_pre = torch.max(test_output.data, 1)\n",
    "        dropout_total += imgs.size(0)\n",
    "        dropout_correct += (dropout_pre == labels).sum().item()\n",
    "        \n",
    "    print(\"dropout ACC >> {:.2f}\".format(100 * dropout_correct/dropout_total))\n",
    "    "
   ]
  },
  {
   "cell_type": "code",
   "execution_count": 14,
   "metadata": {},
   "outputs": [],
   "source": [
    "non_dropout_model = NonDropoutNet()\n",
    "\n",
    "non_dropout_criterion = nn.CrossEntropyLoss()\n",
    "non_dropout_optim = optim.SGD(non_dropout_model.parameters(), lr=0.001)\n",
    "\n",
    "for epoch in range(10):\n",
    "    non_dropout_model.train()\n",
    "    for imgs, labels in train_loader:\n",
    "        non_dropout_optim.zero_grad()\n",
    "        no_output = non_dropout_model(imgs)\n",
    "        no_loss = non_dropout_criterion(no_output, labels)\n",
    "        no_loss.backward()\n",
    "        non_dropout_optim.step()\n",
    "        \n",
    "        \n",
    "        \n",
    "non_dropout_model.eval()\n",
    "with torch.no_grad():\n",
    "    no_correct = 0\n",
    "    no_total = 0\n",
    "    \n",
    "    for imgs, labels in test_loader:\n",
    "        output = non_dropout_model(imgs)\n",
    "        _, pred = torch.max(output.data, 1)\n",
    "        no_total += labels.size(0)\n",
    "        no_correct += (pred == labels).sum().item()"
   ]
  },
  {
   "cell_type": "code",
   "execution_count": 15,
   "metadata": {},
   "outputs": [
    {
     "name": "stdout",
     "output_type": "stream",
     "text": [
      "dropout ACC >> 82.60\n"
     ]
    }
   ],
   "source": [
    "print(\"dropout ACC >> {:.2f}\".format(100 * no_correct/no_total))"
   ]
  },
  {
   "cell_type": "code",
   "execution_count": null,
   "metadata": {},
   "outputs": [],
   "source": []
  }
 ],
 "metadata": {
  "kernelspec": {
   "display_name": "AI",
   "language": "python",
   "name": "ai"
  },
  "language_info": {
   "codemirror_mode": {
    "name": "ipython",
    "version": 3
   },
   "file_extension": ".py",
   "mimetype": "text/x-python",
   "name": "python",
   "nbconvert_exporter": "python",
   "pygments_lexer": "ipython3",
   "version": "3.8.16"
  },
  "orig_nbformat": 4
 },
 "nbformat": 4,
 "nbformat_minor": 2
}

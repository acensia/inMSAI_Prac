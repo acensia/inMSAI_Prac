{
 "cells": [
  {
   "cell_type": "code",
   "execution_count": 2,
   "metadata": {},
   "outputs": [],
   "source": [
    "import torch\n",
    "import numpy as np"
   ]
  },
  {
   "cell_type": "code",
   "execution_count": 3,
   "metadata": {},
   "outputs": [
    {
     "name": "stdout",
     "output_type": "stream",
     "text": [
      "tensor([[1, 2],\n",
      "        [3, 4]])\n",
      "tensor([[1, 2],\n",
      "        [3, 4]], dtype=torch.int32)\n"
     ]
    }
   ],
   "source": [
    "data = [[1,2],  [3,4]]\n",
    "X_data = torch.tensor(data)\n",
    "\n",
    "print(X_data)\n",
    "\n",
    "np_array = np.array(data)\n",
    "x_np = torch.from_numpy(np_array)\n",
    "print(x_np)"
   ]
  },
  {
   "cell_type": "code",
   "execution_count": 4,
   "metadata": {},
   "outputs": [
    {
     "name": "stdout",
     "output_type": "stream",
     "text": [
      "ones Tensor: \n",
      "tensor([[1, 1],\n",
      "        [1, 1]])\n",
      "Random Tensor: \n",
      "tensor([[0.2363, 0.0697],\n",
      "        [0.7083, 0.7640]])\n"
     ]
    }
   ],
   "source": [
    "X_ones = torch.ones_like(X_data)\n",
    "print(f\"ones Tensor: \\n{X_ones}\")\n",
    "\n",
    "X_rand =torch.rand_like(X_data, dtype=torch.float)\n",
    "print(f\"Random Tensor: \\n{X_rand}\")\n",
    "# torch.ones_like()주어진 입력 텐서와 동일한 크기의 텐서를 생성하고 모든 요소를 1로 체우면됩니다. \n",
    "# torch.rand_like() 주어진 입력 텐서와 동일한 크기의 텐서를 생성하고 모든 요소를 랜덤한 값으로 채웁니다. 그리고 타입 지정하면 그 타입으로 변경됩니다."
   ]
  },
  {
   "cell_type": "code",
   "execution_count": 7,
   "metadata": {},
   "outputs": [
    {
     "name": "stdout",
     "output_type": "stream",
     "text": [
      "tensor([[8.1047, 4.2379, 4.9905, 5.7064, 2.2874, 9.9262],\n",
      "        [7.2533, 6.1393, 6.7410, 6.4961, 9.8198, 4.3603],\n",
      "        [1.4550, 4.5487, 7.4020, 7.0756, 9.8889, 0.8129],\n",
      "        [8.0105, 8.5878, 0.1100, 9.4654, 5.5454, 5.8896],\n",
      "        [3.2944, 8.9029, 3.3287, 5.8982, 4.7509, 4.0627]])\n",
      "tensor([[1., 1., 1., 1., 1., 1.],\n",
      "        [1., 1., 1., 1., 1., 1.],\n",
      "        [1., 1., 1., 1., 1., 1.],\n",
      "        [1., 1., 1., 1., 1., 1.],\n",
      "        [1., 1., 1., 1., 1., 1.]])\n",
      "tensor([[0., 0., 0., 0., 0., 0.],\n",
      "        [0., 0., 0., 0., 0., 0.],\n",
      "        [0., 0., 0., 0., 0., 0.],\n",
      "        [0., 0., 0., 0., 0., 0.],\n",
      "        [0., 0., 0., 0., 0., 0.]])\n",
      "tensor([[3.0784, 2.9853, 0.7802, 1.1628, 1.5955, 1.0445],\n",
      "        [3.1955, 0.2381, 1.2406, 0.5323, 3.6636, 1.8006],\n",
      "        [0.6622, 1.6832, 3.0520, 2.3199, 3.2829, 1.4964],\n",
      "        [2.3514, 0.4136, 0.4785, 3.5087, 3.7845, 1.1648],\n",
      "        [3.0949, 1.0798, 3.6089, 1.8756, 0.9784, 1.8903]])\n"
     ]
    }
   ],
   "source": [
    "shape = [5,6, ]\n",
    "rand_tensor = torch.rand(shape) * 10\n",
    "ones_tensor = torch.ones(shape)\n",
    "zeros_tensor = torch.zeros(shape)\n",
    "\n",
    "print(rand_tensor)\n",
    "print(ones_tensor)\n",
    "print(zeros_tensor)\n",
    "\n",
    "shape_temp=(5,6)\n",
    "min_val = 6\n",
    "max_val = 10\n",
    "rand_tensor_temp = torch.rand(shape_temp) * (max_val - min_val)\n",
    "print(rand_tensor_temp)"
   ]
  },
  {
   "cell_type": "code",
   "execution_count": 8,
   "metadata": {},
   "outputs": [
    {
     "name": "stdout",
     "output_type": "stream",
     "text": [
      "Shape of tens : torch.Size([3, 4])\n",
      "Data : <built-in method type of Tensor object at 0x000001F1FC33D9F0>\n",
      "Device tensor is stored on : cpu\n"
     ]
    }
   ],
   "source": [
    "tensor_val = torch.rand(3, 4)\n",
    "print(f\"Shape of tens : {tensor_val.shape}\")\n",
    "print(f\"Data : {tensor_val.type}\")\n",
    "print(f\"Device tensor is stored on : {tensor_val.device}\")"
   ]
  },
  {
   "attachments": {},
   "cell_type": "markdown",
   "metadata": {},
   "source": [
    "Tensor Attribute"
   ]
  },
  {
   "cell_type": "code",
   "execution_count": 14,
   "metadata": {},
   "outputs": [
    {
     "name": "stdout",
     "output_type": "stream",
     "text": [
      "It's  cuda\n",
      "torch.Size([3, 4])\n",
      "torch.float32\n",
      "cpu\n"
     ]
    }
   ],
   "source": [
    "tensor_val = torch.rand(3, 4)\n",
    "\n",
    "dev = 'cuda' if torch.cuda.is_available() else 'cpu'\n",
    "print(\"It's \",dev)\n",
    "tensor_val.to(dev)\n",
    "\n",
    "print(f\"{tensor_val.shape}\")\n",
    "print(tensor_val.dtype)\n",
    "print(tensor_val.device)"
   ]
  },
  {
   "cell_type": "code",
   "execution_count": 15,
   "metadata": {},
   "outputs": [],
   "source": [
    "tensor_1 = torch.ones(4, 4)\n",
    "tensor_1[:, 3] = 0\n",
    "tensor_2 = torch.ones(4, 4)\n",
    "tensor_2[:, 1] = 2"
   ]
  },
  {
   "cell_type": "code",
   "execution_count": 17,
   "metadata": {},
   "outputs": [
    {
     "name": "stdout",
     "output_type": "stream",
     "text": [
      "tensor([[1., 1., 1., 0., 1., 2., 1., 1.],\n",
      "        [1., 1., 1., 0., 1., 2., 1., 1.],\n",
      "        [1., 1., 1., 0., 1., 2., 1., 1.],\n",
      "        [1., 1., 1., 0., 1., 2., 1., 1.]])\n"
     ]
    }
   ],
   "source": [
    "t1 = torch.cat([tensor_1, tensor_2], dim=1)\n",
    "print(t1)"
   ]
  },
  {
   "cell_type": "code",
   "execution_count": 19,
   "metadata": {},
   "outputs": [
    {
     "name": "stdout",
     "output_type": "stream",
     "text": [
      "tensor([[1., 2., 1., 0.],\n",
      "        [1., 2., 1., 0.],\n",
      "        [1., 2., 1., 0.],\n",
      "        [1., 2., 1., 0.]])\n",
      "tensor([[1., 2., 1., 0.],\n",
      "        [1., 2., 1., 0.],\n",
      "        [1., 2., 1., 0.],\n",
      "        [1., 2., 1., 0.]])\n"
     ]
    }
   ],
   "source": [
    "t_mult = tensor_1.mul(tensor_2)\n",
    "print(t_mult)\n",
    "\n",
    "print(tensor_1*tensor_2)"
   ]
  },
  {
   "cell_type": "code",
   "execution_count": 20,
   "metadata": {},
   "outputs": [
    {
     "name": "stdout",
     "output_type": "stream",
     "text": [
      "tensor([[7., 7., 7., 7.],\n",
      "        [7., 7., 7., 7.],\n",
      "        [7., 7., 7., 7.],\n",
      "        [7., 7., 7., 7.]])\n",
      "tensor([[7., 7., 7., 7.],\n",
      "        [7., 7., 7., 7.],\n",
      "        [7., 7., 7., 7.],\n",
      "        [7., 7., 7., 7.]])\n"
     ]
    }
   ],
   "source": [
    "print(tensor_2.matmul(tensor_2.T))\n",
    "print(tensor_2 @ tensor_2.T)"
   ]
  },
  {
   "cell_type": "code",
   "execution_count": 21,
   "metadata": {},
   "outputs": [
    {
     "name": "stdout",
     "output_type": "stream",
     "text": [
      "tensor([1., 1., 1., 1., 1.])\n",
      "[1. 1. 1. 1. 1.]\n",
      "tensor([2., 2., 2., 2., 2.])\n",
      "[2. 2. 2. 2. 2.]\n"
     ]
    }
   ],
   "source": [
    "t = torch.ones(5)\n",
    "print(t)\n",
    "n = t.numpy()\n",
    "print(n)\n",
    "\n",
    "t.add_(1)\n",
    "print(t)\n",
    "print(n)"
   ]
  },
  {
   "attachments": {},
   "cell_type": "markdown",
   "metadata": {},
   "source": [
    "### View - 원소 수 유지하면서 텐서 크기 변경"
   ]
  },
  {
   "cell_type": "code",
   "execution_count": 28,
   "metadata": {},
   "outputs": [
    {
     "name": "stdout",
     "output_type": "stream",
     "text": [
      "tensor([[[ 0.,  1.,  2.],\n",
      "         [ 3.,  4.,  5.]],\n",
      "\n",
      "        [[ 6.,  7.,  8.],\n",
      "         [ 9., 10., 11.]]])\n",
      "torch.Size([2, 2, 3])\n",
      "tensor([[ 0.,  1.,  2.],\n",
      "        [ 3.,  4.,  5.],\n",
      "        [ 6.,  7.,  8.],\n",
      "        [ 9., 10., 11.]])\n",
      "torch.Size([4, 3])\n"
     ]
    }
   ],
   "source": [
    "\"\"\"\n",
    "Pytorch tensor - View is the same with numpy.reshape\n",
    "\"\"\"\n",
    "    \n",
    "\n",
    "t_temp = np.array([[[6*i + 3*j + k for k in range(3)] for j in range(2)]for i in range(2)])\n",
    "ft = torch.FloatTensor(t_temp)\n",
    "\n",
    "print(ft)\n",
    "print(ft.shape)\n",
    "\n",
    "print(ft.view([-1, 3]))\n",
    "print(ft.view([-1, 3]).shape)"
   ]
  },
  {
   "cell_type": "code",
   "execution_count": null,
   "metadata": {},
   "outputs": [],
   "source": []
  }
 ],
 "metadata": {
  "kernelspec": {
   "display_name": "Python 3",
   "language": "python",
   "name": "python3"
  },
  "language_info": {
   "codemirror_mode": {
    "name": "ipython",
    "version": 3
   },
   "file_extension": ".py",
   "mimetype": "text/x-python",
   "name": "python",
   "nbconvert_exporter": "python",
   "pygments_lexer": "ipython3",
   "version": "3.8.16"
  },
  "orig_nbformat": 4
 },
 "nbformat": 4,
 "nbformat_minor": 2
}

{
 "cells": [
  {
   "cell_type": "markdown",
   "id": "d79ba19a",
   "metadata": {},
   "source": [
    "# 단일 객체 저장 및 불러오기"
   ]
  },
  {
   "cell_type": "code",
   "execution_count": 1,
   "id": "bc7930c6",
   "metadata": {},
   "outputs": [],
   "source": [
    "import numpy as np\n",
    "import os "
   ]
  },
  {
   "cell_type": "code",
   "execution_count": 2,
   "id": "dbaffdec",
   "metadata": {},
   "outputs": [
    {
     "name": "stdout",
     "output_type": "stream",
     "text": [
      "[1 2 3 4 5 6 7 8 9]\n"
     ]
    }
   ],
   "source": [
    "# 단일 객체 생성\n",
    "array = np.arange(1, 10)\n",
    "print(array)"
   ]
  },
  {
   "cell_type": "markdown",
   "id": "3c8eeb8b",
   "metadata": {},
   "source": [
    "#### numpy 형태로 저장"
   ]
  },
  {
   "cell_type": "code",
   "execution_count": 3,
   "id": "26cf2700",
   "metadata": {},
   "outputs": [],
   "source": [
    "os.makedirs(\"./data\", exist_ok=True)\n",
    "np.save(\"./data/save.npy\", array)"
   ]
  },
  {
   "cell_type": "markdown",
   "id": "05c5c673",
   "metadata": {},
   "source": [
    "#### numpy 데이터 불러오기"
   ]
  },
  {
   "cell_type": "code",
   "execution_count": 4,
   "id": "3aa9269c",
   "metadata": {},
   "outputs": [
    {
     "name": "stdout",
     "output_type": "stream",
     "text": [
      "[1 2 3 4 5 6 7 8 9]\n"
     ]
    }
   ],
   "source": [
    "result = np.load(\"./data/save.npy\")\n",
    "\n",
    "print(result)"
   ]
  },
  {
   "cell_type": "markdown",
   "id": "8194f202",
   "metadata": {},
   "source": [
    "# 복수 객체 저장 및 불러오기"
   ]
  },
  {
   "cell_type": "code",
   "execution_count": 5,
   "id": "399b770e",
   "metadata": {},
   "outputs": [],
   "source": [
    "# 복수 객체 생성 \n",
    "array01 = np.arange(0,10)\n",
    "array02 = np.arange(10,20)\n",
    "array03 = np.arange(20,30)"
   ]
  },
  {
   "cell_type": "markdown",
   "id": "8f50120a",
   "metadata": {},
   "source": [
    "#### numpy 저장"
   ]
  },
  {
   "cell_type": "code",
   "execution_count": 6,
   "id": "c44daed3",
   "metadata": {},
   "outputs": [],
   "source": [
    "np.savez(\"./data/mul_save.npz\", a=array01, array2=array02, array3=array03)"
   ]
  },
  {
   "cell_type": "markdown",
   "id": "00dfaa82",
   "metadata": {},
   "source": [
    "#### numpy 불러오기 "
   ]
  },
  {
   "cell_type": "code",
   "execution_count": 7,
   "id": "b0e4966f",
   "metadata": {},
   "outputs": [
    {
     "ename": "KeyError",
     "evalue": "'array1 is not a file in the archive'",
     "output_type": "error",
     "traceback": [
      "\u001b[0;31m---------------------------------------------------------------------------\u001b[0m",
      "\u001b[0;31mKeyError\u001b[0m                                  Traceback (most recent call last)",
      "Input \u001b[0;32mIn [7]\u001b[0m, in \u001b[0;36m<cell line: 3>\u001b[0;34m()\u001b[0m\n\u001b[1;32m      1\u001b[0m data \u001b[38;5;241m=\u001b[39m np\u001b[38;5;241m.\u001b[39mload(\u001b[38;5;124m\"\u001b[39m\u001b[38;5;124m./data/mul_save.npz\u001b[39m\u001b[38;5;124m\"\u001b[39m)\n\u001b[0;32m----> 3\u001b[0m result01 \u001b[38;5;241m=\u001b[39m \u001b[43mdata\u001b[49m\u001b[43m[\u001b[49m\u001b[38;5;124;43m'\u001b[39;49m\u001b[38;5;124;43marray1\u001b[39;49m\u001b[38;5;124;43m'\u001b[39;49m\u001b[43m]\u001b[49m\n\u001b[1;32m      4\u001b[0m result02 \u001b[38;5;241m=\u001b[39m data[\u001b[38;5;124m'\u001b[39m\u001b[38;5;124marray2\u001b[39m\u001b[38;5;124m'\u001b[39m]\n\u001b[1;32m      5\u001b[0m \u001b[38;5;28mprint\u001b[39m(result01)\n",
      "File \u001b[0;32m/opt/homebrew/Caskroom/miniforge/base/envs/AI/lib/python3.8/site-packages/numpy/lib/npyio.py:260\u001b[0m, in \u001b[0;36mNpzFile.__getitem__\u001b[0;34m(self, key)\u001b[0m\n\u001b[1;32m    258\u001b[0m         \u001b[38;5;28;01mreturn\u001b[39;00m \u001b[38;5;28mself\u001b[39m\u001b[38;5;241m.\u001b[39mzip\u001b[38;5;241m.\u001b[39mread(key)\n\u001b[1;32m    259\u001b[0m \u001b[38;5;28;01melse\u001b[39;00m:\n\u001b[0;32m--> 260\u001b[0m     \u001b[38;5;28;01mraise\u001b[39;00m \u001b[38;5;167;01mKeyError\u001b[39;00m(\u001b[38;5;124m\"\u001b[39m\u001b[38;5;132;01m%s\u001b[39;00m\u001b[38;5;124m is not a file in the archive\u001b[39m\u001b[38;5;124m\"\u001b[39m \u001b[38;5;241m%\u001b[39m key)\n",
      "\u001b[0;31mKeyError\u001b[0m: 'array1 is not a file in the archive'"
     ]
    }
   ],
   "source": [
    "data = np.load(\"./data/mul_save.npz\")\n",
    "\n",
    "result01 = data['a']\n",
    "result02 = data['array2']\n",
    "print(result01)\n",
    "print(result02)"
   ]
  },
  {
   "cell_type": "code",
   "execution_count": null,
   "id": "8a0bc76f",
   "metadata": {},
   "outputs": [],
   "source": []
  }
 ],
 "metadata": {
  "kernelspec": {
   "display_name": "AI",
   "language": "python",
   "name": "ai"
  },
  "language_info": {
   "codemirror_mode": {
    "name": "ipython",
    "version": 3
   },
   "file_extension": ".py",
   "mimetype": "text/x-python",
   "name": "python",
   "nbconvert_exporter": "python",
   "pygments_lexer": "ipython3",
   "version": "3.8.12"
  }
 },
 "nbformat": 4,
 "nbformat_minor": 5
}

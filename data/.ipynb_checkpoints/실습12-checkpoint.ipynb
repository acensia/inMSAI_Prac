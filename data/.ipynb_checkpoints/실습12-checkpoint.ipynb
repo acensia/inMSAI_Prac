{
 "cells": [
  {
   "cell_type": "code",
   "execution_count": 3,
   "id": "21b7aac7",
   "metadata": {},
   "outputs": [],
   "source": [
    "import numpy as np\n",
    "import matplotlib.pyplot as plt\n",
    "from scipy import stats\n"
   ]
  },
  {
   "cell_type": "code",
   "execution_count": 6,
   "id": "220541ec",
   "metadata": {},
   "outputs": [],
   "source": [
    "np.random.seed(42)\n",
    "\n",
    "n = 100\n",
    "mul,mul2 = 0, 0.5\n",
    "sigma = 1\n",
    "d1 = np.random.normal(mul, sigma, n)\n",
    "d2 = np.random.normal(mul2, sigma, n)"
   ]
  },
  {
   "cell_type": "code",
   "execution_count": 10,
   "id": "a9ba37b7",
   "metadata": {},
   "outputs": [],
   "source": [
    "m = 30\n",
    "d3 = np.random.uniform(0, 1, m)\n",
    "d4 = np.random.uniform(0.5, 1.5, m)"
   ]
  },
  {
   "cell_type": "code",
   "execution_count": 11,
   "id": "34455665",
   "metadata": {},
   "outputs": [
    {
     "name": "stdout",
     "output_type": "stream",
     "text": [
      "-4.754695943505288 3.819135262679343e-06\n"
     ]
    }
   ],
   "source": [
    "#모수 검정\n",
    "t_stat, p_val = stats.ttest_ind(d1, d2)\n",
    "print(t_stat, p_val)"
   ]
  },
  {
   "cell_type": "code",
   "execution_count": 12,
   "id": "a3f0c3e2",
   "metadata": {},
   "outputs": [
    {
     "name": "stdout",
     "output_type": "stream",
     "text": [
      "145.0 6.7362128931226e-06\n"
     ]
    }
   ],
   "source": [
    "#비모수 검정\n",
    "u_stat, p_val = stats.mannwhitneyu(d3, d4)\n",
    "print(u_stat, p_val)"
   ]
  },
  {
   "cell_type": "code",
   "execution_count": null,
   "id": "dcc86d45",
   "metadata": {},
   "outputs": [],
   "source": []
  }
 ],
 "metadata": {
  "kernelspec": {
   "display_name": "AI",
   "language": "python",
   "name": "ai"
  },
  "language_info": {
   "codemirror_mode": {
    "name": "ipython",
    "version": 3
   },
   "file_extension": ".py",
   "mimetype": "text/x-python",
   "name": "python",
   "nbconvert_exporter": "python",
   "pygments_lexer": "ipython3",
   "version": "3.8.16"
  }
 },
 "nbformat": 4,
 "nbformat_minor": 5
}

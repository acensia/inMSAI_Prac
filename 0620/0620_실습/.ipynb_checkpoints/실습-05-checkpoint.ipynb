{
 "cells": [
  {
   "cell_type": "markdown",
   "id": "66cc247d",
   "metadata": {},
   "source": [
    "# 소리 데이터에 적합한 데이터 증강 기법 - Stretching "
   ]
  },
  {
   "cell_type": "code",
   "execution_count": 1,
   "id": "fae74c9d",
   "metadata": {},
   "outputs": [],
   "source": [
    "import numpy as np\n",
    "import matplotlib.pyplot as plt\n",
    "import librosa\n",
    "import soundfile as sf "
   ]
  },
  {
   "cell_type": "code",
   "execution_count": 2,
   "id": "3912dac7",
   "metadata": {},
   "outputs": [],
   "source": [
    "# 1. 샘플데이터 불러오기 \n",
    "data, sr = librosa.load('./blues.00001.wav')"
   ]
  },
  {
   "cell_type": "code",
   "execution_count": 3,
   "id": "d82c920e",
   "metadata": {},
   "outputs": [],
   "source": [
    "# 2. stretching the audio signal \n",
    "data_stretch = librosa.effects.time_stretch(data, rate=0.8)"
   ]
  },
  {
   "cell_type": "code",
   "execution_count": null,
   "id": "fe218429",
   "metadata": {},
   "outputs": [],
   "source": [
    "# 3. 결과 저장 \n",
    "save_path = \"./sample_stretech.wav\"\n",
    "sf.write(save_path, data_stretch, sr)"
   ]
  },
  {
   "cell_type": "markdown",
   "id": "1e10c322",
   "metadata": {},
   "source": [
    "## 원본 데이터와 늘린 데이터 비교 "
   ]
  },
  {
   "cell_type": "code",
   "execution_count": 4,
   "id": "37ef32a4",
   "metadata": {},
   "outputs": [
    {
     "data": {
      "text/plain": [
       "<Figure size 1400x500 with 0 Axes>"
      ]
     },
     "metadata": {},
     "output_type": "display_data"
    }
   ],
   "source": [
    "plt.figure(figsize=(14,5))\n",
    "plt.subplot(1,2,1)\n",
    "librosa.display.waveshow(data, sr=sr, alpha=0.8)\n",
    "\n",
    "plt.subplot(1,2,2)\n",
    "librosa.display.waveshow(data_stretch, sr=sr, alpha=0.8)\n",
    "\n",
    "plt.title(\"Stretch\")\n",
    "plt.show()"
   ]
  }
 ],
 "metadata": {
  "kernelspec": {
   "display_name": "AI",
   "language": "python",
   "name": "ai"
  },
  "language_info": {
   "codemirror_mode": {
    "name": "ipython",
    "version": 3
   },
   "file_extension": ".py",
   "mimetype": "text/x-python",
   "name": "python",
   "nbconvert_exporter": "python",
   "pygments_lexer": "ipython3",
   "version": "3.8.12"
  }
 },
 "nbformat": 4,
 "nbformat_minor": 5
}

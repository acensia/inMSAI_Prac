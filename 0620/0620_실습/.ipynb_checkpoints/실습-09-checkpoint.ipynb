{
 "cells": [
  {
   "cell_type": "markdown",
   "id": "d694584b",
   "metadata": {},
   "source": [
    "# GTZAN Dataset image 프로세싱 – 비율 유지 하고 리사이즈 작업 진행하기"
   ]
  },
  {
   "cell_type": "code",
   "execution_count": 3,
   "id": "44f74abe",
   "metadata": {},
   "outputs": [],
   "source": [
    "from PIL import Image\n",
    "import os\n",
    "import glob"
   ]
  },
  {
   "cell_type": "code",
   "execution_count": 6,
   "id": "bdf60a8c",
   "metadata": {},
   "outputs": [
    {
     "name": "stdout",
     "output_type": "stream",
     "text": [
      "./waveshow_original.png\n",
      "./waveshow_0-10.png\n",
      "./STFT_0-10_aug_stretch.png\n",
      "./STFT_original.png\n",
      "./mel_spec_0-10.png\n",
      "./STFT_0-10.png\n",
      "./mel_spec_0-10_aug_noise.png\n",
      "./mel_spec_0-10_aug_streched.png\n",
      "./spectrogram.png\n",
      "./waveshow_0-10_aug_noise.png\n",
      "./waveshow_0-10_aug_stretch.png\n",
      "./STFT_0-10_aug_noise.png\n",
      "./mel_spec_original.png\n",
      "./MFCC.png\n"
     ]
    }
   ],
   "source": [
    "def expend2square(pil_image, background_color) : \n",
    "    width, heigth = pil_image.size\n",
    "    \n",
    "    if width == heigth : \n",
    "        return pil_image\n",
    "    \n",
    "    elif width > heigth : \n",
    "        result = Image.new(pil_image.mode, (width, width), background_color)\n",
    "        result.paste(pil_image, (0, (width - heigth) // 2))\n",
    "        \n",
    "        return result\n",
    "        \n",
    "    else : \n",
    "        result = Image.new(pil_image.mode, (heigth, heigth), background_color)\n",
    "        resutl.paste(pil_image, ((heigth - width) // 2, 0))\n",
    "        \n",
    "        return result\n",
    "\n",
    "def resize_with_padding(pil_image, new_size, background_color) : \n",
    "    img = expend2square(pil_image, background_color)\n",
    "    img = img.resize((new_size[0], new_size[1]), Image.ANTIALIAS)\n",
    "    \n",
    "    return img \n",
    "\n",
    "img_path_list = glob.glob(os.path.join(\"./\", \"*.png\"))\n",
    "\n",
    "# 폴더 하나 생성\n",
    "os.makedirs(\"./data\", exist_ok=True)\n",
    "\n",
    "for i ,img_path in enumerate(img_path_list) : \n",
    "    print(img_path)\n",
    "    img = Image.open(img_path)\n",
    "    print(img)\n",
    "    img_new = resize_with_padding(img, (255,255), (0,0,0))\n",
    "    \n",
    "    save_file_name = f\"./data/{str(i).zfill(4)}_resize_img.png\"\n",
    "    img_new.save(save_file_name, \"png\")"
   ]
  },
  {
   "cell_type": "code",
   "execution_count": null,
   "id": "65660a84",
   "metadata": {},
   "outputs": [],
   "source": []
  }
 ],
 "metadata": {
  "kernelspec": {
   "display_name": "AI",
   "language": "python",
   "name": "ai"
  },
  "language_info": {
   "codemirror_mode": {
    "name": "ipython",
    "version": 3
   },
   "file_extension": ".py",
   "mimetype": "text/x-python",
   "name": "python",
   "nbconvert_exporter": "python",
   "pygments_lexer": "ipython3",
   "version": "3.8.12"
  }
 },
 "nbformat": 4,
 "nbformat_minor": 5
}

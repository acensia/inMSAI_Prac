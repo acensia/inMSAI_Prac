{
 "cells": [
  {
   "cell_type": "markdown",
   "id": "6a332eec",
   "metadata": {},
   "source": [
    "# 원본 오디오와 잡음 생성된 오디오 비교 "
   ]
  },
  {
   "cell_type": "code",
   "execution_count": 1,
   "id": "ba45182b",
   "metadata": {},
   "outputs": [],
   "source": [
    "import soundfile as sf \n",
    "import matplotlib.pyplot as plt"
   ]
  },
  {
   "cell_type": "markdown",
   "id": "6cfd0a31",
   "metadata": {},
   "source": [
    "### 원본 오디오 불러오기 "
   ]
  },
  {
   "cell_type": "code",
   "execution_count": 2,
   "id": "0dab261a",
   "metadata": {},
   "outputs": [],
   "source": [
    "# 샘플 Wav 파일 로드 \n",
    "file_paht = \"./blues.00001.wav\" \n",
    "# WAV : 일반적으로 Windows에서 사용되는 오디오 파일 형식 -> 고해상도 및 대용량 오디오 파일 저장하기위해서 사용합니다.\n",
    "data, sr = sf.read(file_paht)"
   ]
  },
  {
   "cell_type": "markdown",
   "id": "bfee467e",
   "metadata": {},
   "source": [
    "### 잡음 생성된 오디오 불러오기 "
   ]
  },
  {
   "cell_type": "code",
   "execution_count": null,
   "id": "5b7d1d64",
   "metadata": {},
   "outputs": [],
   "source": [
    "# 샘플 Wav 파일 로드 \n",
    "file_paht = \"./sample_noise_add.wav\" \n",
    "# WAV : 일반적으로 Windows에서 사용되는 오디오 파일 형식 -> 고해상도 및 대용량 오디오 파일 저장하기위해서 사용합니다.\n",
    "data, sr = sf.read(file_paht)"
   ]
  }
 ],
 "metadata": {
  "kernelspec": {
   "display_name": "AI",
   "language": "python",
   "name": "ai"
  },
  "language_info": {
   "codemirror_mode": {
    "name": "ipython",
    "version": 3
   },
   "file_extension": ".py",
   "mimetype": "text/x-python",
   "name": "python",
   "nbconvert_exporter": "python",
   "pygments_lexer": "ipython3",
   "version": "3.8.12"
  }
 },
 "nbformat": 4,
 "nbformat_minor": 5
}

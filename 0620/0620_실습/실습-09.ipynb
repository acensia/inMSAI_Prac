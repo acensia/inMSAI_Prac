{
 "cells": [
  {
   "cell_type": "markdown",
   "id": "10364dcb",
   "metadata": {},
   "source": [
    "# GTZAN Dataset image 프로세싱 – 비율 유지 하고 리사이즈 작업 진행하기"
   ]
  },
  {
   "cell_type": "code",
   "execution_count": 3,
   "id": "e858005f",
   "metadata": {},
   "outputs": [],
   "source": [
    "from PIL import Image\n",
    "import os\n",
    "import glob"
   ]
  },
  {
   "cell_type": "code",
   "execution_count": 7,
   "id": "e7a24131",
   "metadata": {},
   "outputs": [
    {
     "name": "stdout",
     "output_type": "stream",
     "text": [
      "./waveshow_original.png\n",
      "<PIL.PngImagePlugin.PngImageFile image mode=RGBA size=973x351 at 0x10BD636A0>\n",
      "./waveshow_0-10.png\n",
      "<PIL.PngImagePlugin.PngImageFile image mode=RGBA size=930x308 at 0x10B98A310>\n",
      "./STFT_0-10_aug_stretch.png\n",
      "<PIL.PngImagePlugin.PngImageFile image mode=RGBA size=1003x351 at 0x10BD63BB0>\n",
      "./STFT_original.png\n",
      "<PIL.PngImagePlugin.PngImageFile image mode=RGBA size=1011x351 at 0x10BD636A0>\n",
      "./mel_spec_0-10.png\n",
      "<PIL.PngImagePlugin.PngImageFile image mode=RGBA size=1003x351 at 0x10B42FF10>\n",
      "./STFT_0-10.png\n",
      "<PIL.PngImagePlugin.PngImageFile image mode=RGBA size=1003x351 at 0x10BD636A0>\n",
      "./mel_spec_0-10_aug_noise.png\n",
      "<PIL.PngImagePlugin.PngImageFile image mode=RGBA size=1003x351 at 0x10BDF38E0>\n",
      "./mel_spec_0-10_aug_streched.png\n",
      "<PIL.PngImagePlugin.PngImageFile image mode=RGBA size=1003x351 at 0x10B42F6D0>\n",
      "./spectrogram.png\n",
      "<PIL.PngImagePlugin.PngImageFile image mode=RGBA size=640x480 at 0x10B98A310>\n",
      "./waveshow_0-10_aug_noise.png\n",
      "<PIL.PngImagePlugin.PngImageFile image mode=RGBA size=930x308 at 0x10B42FF10>\n",
      "./waveshow_0-10_aug_stretch.png\n",
      "<PIL.PngImagePlugin.PngImageFile image mode=RGBA size=930x308 at 0x10B42F6D0>\n",
      "./STFT_0-10_aug_noise.png\n",
      "<PIL.PngImagePlugin.PngImageFile image mode=RGBA size=1003x351 at 0x10BD63BB0>\n",
      "./mel_spec_original.png\n",
      "<PIL.PngImagePlugin.PngImageFile image mode=RGBA size=1011x351 at 0x10B42F6D0>\n",
      "./MFCC.png\n",
      "<PIL.PngImagePlugin.PngImageFile image mode=RGBA size=2970x1170 at 0x10BDF38E0>\n"
     ]
    }
   ],
   "source": [
    "def expend2square(pil_image, background_color) : \n",
    "    width, heigth = pil_image.size\n",
    "    \n",
    "    if width == heigth : \n",
    "        return pil_image\n",
    "    \n",
    "    elif width > heigth : \n",
    "        result = Image.new(pil_image.mode, (width, width), background_color)\n",
    "        result.paste(pil_image, (0, (width - heigth) // 2))\n",
    "        \n",
    "        return result\n",
    "        \n",
    "    else : \n",
    "        result = Image.new(pil_image.mode, (heigth, heigth), background_color)\n",
    "        resutl.paste(pil_image, ((heigth - width) // 2, 0))\n",
    "        \n",
    "        return result\n",
    "\n",
    "def resize_with_padding(pil_image, new_size, background_color) : \n",
    "    img = expend2square(pil_image, background_color)\n",
    "    img = img.resize((new_size[0], new_size[1]), Image.ANTIALIAS)\n",
    "    \n",
    "    return img \n",
    "\n",
    "img_path_list = glob.glob(os.path.join(\"./\", \"*.png\"))\n",
    "\n",
    "# 폴더 하나 생성\n",
    "os.makedirs(\"./data\", exist_ok=True)\n",
    "\n",
    "for i ,img_path in enumerate(img_path_list) : \n",
    "    print(img_path)\n",
    "    img = Image.open(img_path)\n",
    "    print(img)\n",
    "    img_new = resize_with_padding(img, (255,255), (0,0,0))\n",
    "    \n",
    "    save_file_name = f\"./data/{str(i).zfill(4)}_resize_img.png\"\n",
    "    img_new.save(save_file_name, \"png\")"
   ]
  },
  {
   "cell_type": "code",
   "execution_count": null,
   "id": "a6540cd5",
   "metadata": {},
   "outputs": [],
   "source": []
  }
 ],
 "metadata": {
  "kernelspec": {
   "display_name": "AI",
   "language": "python",
   "name": "ai"
  },
  "language_info": {
   "codemirror_mode": {
    "name": "ipython",
    "version": 3
   },
   "file_extension": ".py",
   "mimetype": "text/x-python",
   "name": "python",
   "nbconvert_exporter": "python",
   "pygments_lexer": "ipython3",
   "version": "3.8.12"
  }
 },
 "nbformat": 4,
 "nbformat_minor": 5
}

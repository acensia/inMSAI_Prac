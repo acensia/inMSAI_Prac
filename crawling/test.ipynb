{
 "cells": [
  {
   "cell_type": "code",
   "execution_count": 4,
   "metadata": {},
   "outputs": [
    {
     "name": "stdout",
     "output_type": "stream",
     "text": [
      "['./anno\\\\C_TP_15_00007351.json', './anno\\\\C_TP_15_00007362.json', './anno\\\\C_TP_15_00007366.json', './anno\\\\C_TP_15_00007389.json', './anno\\\\C_TP_15_00007395.json', './anno\\\\C_TP_15_00018359.json', './anno\\\\C_TP_15_00018366.json', './anno\\\\C_TP_15_00018381.json', './anno\\\\C_TP_41_00001012.json', './anno\\\\C_TP_41_00001014.json', './anno\\\\C_TP_41_00001017.json', './anno\\\\C_TP_41_00001019.json', './anno\\\\C_TP_41_00001020.json', './anno\\\\C_TP_41_00001021.json', './anno\\\\C_TP_41_00001025.json', './anno\\\\C_TP_41_00001030.json', './anno\\\\C_TP_41_00001032.json', './anno\\\\C_TP_42_00001056.json', './anno\\\\C_TP_42_00001058.json', './anno\\\\C_TP_42_00001108.json', './anno\\\\C_TP_42_00001131.json', './anno\\\\C_TP_42_00001133.json', './anno\\\\C_TP_42_00001137.json', './anno\\\\C_TP_42_00001138.json', './anno\\\\C_TP_42_00001141.json', './anno\\\\C_TP_42_00001153.json', './anno\\\\C_TP_42_00001156.json', './anno\\\\C_TP_42_00049391.json', './anno\\\\C_TP_42_00049398.json', './anno\\\\C_TP_42_00049402.json', './anno\\\\C_TP_42_00049412.json', './anno\\\\C_TP_42_00049417.json', './anno\\\\C_TP_42_00049421.json', './anno\\\\C_TP_42_00049427.json', './anno\\\\C_TP_42_00049436.json', './anno\\\\C_TP_42_00049437.json', './anno\\\\C_TP_53_00000237.json', './anno\\\\C_TP_53_00000238.json', './anno\\\\C_TP_53_00000242.json', './anno\\\\C_TP_53_00000244.json', './anno\\\\C_TP_53_00000245.json', './anno\\\\C_TP_53_00000247.json', './anno\\\\C_TP_53_00000250.json', './anno\\\\C_TP_53_00000254.json', './anno\\\\C_TP_53_00000344.json', './anno\\\\C_TP_53_00000346.json', './anno\\\\C_TP_53_00000348.json', './anno\\\\C_TP_53_00000349.json', './anno\\\\C_TP_53_00000359.json', './anno\\\\C_TP_53_00000365.json', './anno\\\\C_TP_53_00000366.json', './anno\\\\C_TP_53_00000373.json', './anno\\\\C_TP_53_00000490.json', './anno\\\\C_TP_53_00000492.json', './anno\\\\C_TP_53_00000502.json', './anno\\\\C_TP_53_00000508.json', './anno\\\\C_TP_53_00000624.json', './anno\\\\C_TP_53_00031004.json', './anno\\\\C_TP_53_00039965.json', './anno\\\\C_TP_53_00042247.json', './anno\\\\C_TP_53_00044180.json', './anno\\\\C_TP_53_00044286.json', './anno\\\\C_TP_53_00051423.json', './anno\\\\C_TP_53_00051428.json', './anno\\\\C_TP_53_00051438.json', './anno\\\\C_TP_53_00051483.json', './anno\\\\C_TP_53_00051566.json', './anno\\\\C_TP_53_00051643.json', './anno\\\\C_TP_53_00063085.json', './anno\\\\C_TP_53_00063094.json', './anno\\\\C_TP_53_00063124.json', './anno\\\\C_TP_53_00063806.json', './anno\\\\C_TP_53_00063834.json', './anno\\\\C_TP_53_00063871.json', './anno\\\\C_TP_53_00063882.json', './anno\\\\C_TP_53_00063944.json', './anno\\\\C_TP_53_00063947.json', './anno\\\\C_TP_53_00063972.json', './anno\\\\C_TP_53_00063987.json', './anno\\\\C_TP_53_00063995.json', './anno\\\\C_TP_53_00064001.json', './anno\\\\C_TP_53_00064064.json', './anno\\\\C_TP_53_00064071.json', './anno\\\\C_TP_53_00064164.json', './anno\\\\C_TP_53_00064191.json', './anno\\\\C_TP_53_00064209.json', './anno\\\\C_TP_53_00064222.json', './anno\\\\C_TP_53_00064234.json', './anno\\\\C_TP_53_00070876.json']\n"
     ]
    }
   ],
   "source": [
    "import json\n",
    "import os\n",
    "import cv2\n",
    "import glob\n",
    "import numpy as np\n",
    "\n",
    "\n",
    "json_dir = \"./anno\"\n",
    "json_paths = glob.glob(os.path.join(json_dir, \"*.json\"))\n",
    "\n",
    "print(len(json_paths))\n"
   ]
  },
  {
   "cell_type": "code",
   "execution_count": null,
   "metadata": {},
   "outputs": [],
   "source": []
  }
 ],
 "metadata": {
  "kernelspec": {
   "display_name": "AI",
   "language": "python",
   "name": "ai"
  },
  "language_info": {
   "codemirror_mode": {
    "name": "ipython",
    "version": 3
   },
   "file_extension": ".py",
   "mimetype": "text/x-python",
   "name": "python",
   "nbconvert_exporter": "python",
   "pygments_lexer": "ipython3",
   "version": "3.8.16"
  },
  "orig_nbformat": 4
 },
 "nbformat": 4,
 "nbformat_minor": 2
}
